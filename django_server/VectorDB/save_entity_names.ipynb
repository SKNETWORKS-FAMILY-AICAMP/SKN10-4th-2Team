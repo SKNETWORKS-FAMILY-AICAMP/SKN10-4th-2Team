{
 "cells": [
  {
   "cell_type": "code",
   "execution_count": 1,
   "id": "53eb5d67",
   "metadata": {},
   "outputs": [],
   "source": [
    "import os, re\n",
    "import pandas as pd\n",
    "from glob import glob\n",
    "\n",
    "def normalize_name(name: str) -> str:\n",
    "    name = re.sub(r\"[^\\w\\s]\", \" \", name)  # 특수문자 제거\n",
    "    name = re.sub(r\"\\s+\", \" \", name)      # 다중 공백 제거\n",
    "    return name.lower().strip()\n",
    "\n",
    "def load_column_values_from_csv(folder_path: str, column_name: str) -> set:\n",
    "    values = set()\n",
    "    csv_files = glob(os.path.join(folder_path, \"*.csv\"))\n",
    "\n",
    "    for file_path in csv_files:\n",
    "        try:\n",
    "            df = pd.read_csv(file_path)\n",
    "            df.columns = df.columns.str.strip()  # 공백 제거\n",
    "            if column_name in df.columns:\n",
    "                cleaned = df[column_name].dropna().astype(str).map(normalize_name)\n",
    "                values.update(cleaned)\n",
    "            else:\n",
    "                print(f\"[⚠️] 컬럼 '{column_name}' 없음: {file_path}\")\n",
    "        except Exception as e:\n",
    "            print(f\"[⚠️] CSV 로드 실패: {file_path} → {e}\")\n",
    "\n",
    "    return values\n",
    "\n",
    "def save_names_to_csv(names: set, output_path: str):\n",
    "    os.makedirs(os.path.dirname(output_path), exist_ok=True)\n",
    "    df = pd.DataFrame(sorted(names), columns=[\"name\"])\n",
    "    df.to_csv(output_path, index=False, encoding=\"utf-8-sig\")\n",
    "    print(f\"[✅] 저장 완료: {output_path} ({len(names)}개)\")\n",
    "\n",
    "def load_known_wine_names(data_dir: str = \"VectorDB/data/wine\") -> set:\n",
    "    wine_names = set()\n",
    "    csv_files = glob(os.path.join(data_dir, \"*.csv\"))\n",
    "    for file_path in csv_files:\n",
    "        try:\n",
    "            df = pd.read_csv(file_path)\n",
    "            df.columns = df.columns.str.strip()\n",
    "            if \"와인명\" in df.columns:\n",
    "                cleaned = df[\"와인명\"].dropna().astype(str).map(normalize_name)\n",
    "                wine_names.update(cleaned)\n",
    "            if \"와인 영문명\" in df.columns:\n",
    "                cleaned_eng = df[\"와인 영문명\"].dropna().astype(str).map(normalize_name)\n",
    "                wine_names.update(cleaned_eng)\n",
    "        except Exception as e:\n",
    "            print(f\"[⚠️] CSV 로드 실패: {file_path} → {e}\")\n",
    "    return wine_names\n",
    "\n",
    "def load_known_grape_names(data_dir: str = \"VectorDB/data/grape\") -> set:\n",
    "    return load_column_values_from_csv(data_dir, \"포도품종\")\n",
    "\n",
    "def load_known_region_names(data_dir: str = \"VectorDB/data/region\") -> set:\n",
    "    return load_column_values_from_csv(data_dir, \"생산지역\")\n",
    "\n",
    "def load_known_producer_names(data_dir: str = \"VectorDB/data/producer\") -> set:\n",
    "    return load_column_values_from_csv(data_dir, \"생산자\")\n"
   ]
  },
  {
   "cell_type": "code",
   "execution_count": 3,
   "id": "fdff276f",
   "metadata": {},
   "outputs": [
    {
     "name": "stdout",
     "output_type": "stream",
     "text": [
      "[✅] 저장 완료: entity_names/wine/names.csv (31879개)\n",
      "[✅] 저장 완료: entity_names/grape/names.csv (529개)\n",
      "[✅] 저장 완료: entity_names/region/names.csv (639개)\n",
      "[✅] 저장 완료: entity_names/producer/names.csv (3805개)\n"
     ]
    }
   ],
   "source": [
    "# 와인명\n",
    "wine_names = load_known_wine_names(\"data/wine\")\n",
    "save_names_to_csv(wine_names, \"entity_names/wine/names.csv\")\n",
    "\n",
    "# 포도품종\n",
    "grape_names = load_known_grape_names(\"data/grape\")\n",
    "save_names_to_csv(grape_names, \"entity_names/grape/names.csv\")\n",
    "\n",
    "# 생산지역\n",
    "region_names = load_known_region_names(\"data/region\")\n",
    "save_names_to_csv(region_names, \"entity_names/region/names.csv\")\n",
    "\n",
    "# 생산자\n",
    "producer_names = load_known_producer_names(\"data/producer\")\n",
    "save_names_to_csv(producer_names, \"entity_names/producer/names.csv\")\n"
   ]
  },
  {
   "cell_type": "code",
   "execution_count": null,
   "id": "9bef5a7a",
   "metadata": {},
   "outputs": [],
   "source": []
  }
 ],
 "metadata": {
  "kernelspec": {
   "display_name": ".venv",
   "language": "python",
   "name": "python3"
  },
  "language_info": {
   "codemirror_mode": {
    "name": "ipython",
    "version": 3
   },
   "file_extension": ".py",
   "mimetype": "text/x-python",
   "name": "python",
   "nbconvert_exporter": "python",
   "pygments_lexer": "ipython3",
   "version": "3.13.1"
  }
 },
 "nbformat": 4,
 "nbformat_minor": 5
}
